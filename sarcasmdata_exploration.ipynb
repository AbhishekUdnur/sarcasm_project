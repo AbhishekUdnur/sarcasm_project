{
  "nbformat": 4,
  "nbformat_minor": 0,
  "metadata": {
    "colab": {
      "name": "sarcasmdata_exploration",
      "provenance": [],
      "collapsed_sections": []
    },
    "kernelspec": {
      "name": "python3",
      "display_name": "Python 3"
    },
    "language_info": {
      "name": "python"
    }
  },
  "cells": [
    {
      "cell_type": "code",
      "metadata": {
        "id": "_1OxkHN-UQf-"
      },
      "source": [
        "import json\n",
        "import tensorflow as tf\n",
        "\n",
        "from tensorflow.keras.preprocessing.text import Tokenizer\n",
        "from tensorflow.keras.preprocessing.sequence import pad_sequences"
      ],
      "execution_count": null,
      "outputs": []
    },
    {
      "cell_type": "code",
      "metadata": {
        "id": "9jvaa4LEUujW"
      },
      "source": [
        "vocab_size = 10000\n",
        "embedding_dim = 16\n",
        "max_length = 100\n",
        "trunc_type='post'\n",
        "padding_type='post'\n",
        "oov_tok = \"<OOV>\"\n",
        "training_size = 20000"
      ],
      "execution_count": null,
      "outputs": []
    },
    {
      "cell_type": "code",
      "metadata": {
        "colab": {
          "base_uri": "https://localhost:8080/"
        },
        "id": "xZBRLclRU7c6",
        "outputId": "c8977713-23a8-42ae-a1c2-e0d9fba0db27"
      },
      "source": [
        "!gdown --id 1xRU3xY5-tkiPGvlz5xBJ18_pHWSRzI4v"
      ],
      "execution_count": null,
      "outputs": [
        {
          "output_type": "stream",
          "name": "stdout",
          "text": [
            "Downloading...\n",
            "From: https://drive.google.com/uc?id=1xRU3xY5-tkiPGvlz5xBJ18_pHWSRzI4v\n",
            "To: /content/sarcasm.json\n",
            "\r  0% 0.00/5.64M [00:00<?, ?B/s]\r100% 5.64M/5.64M [00:00<00:00, 88.5MB/s]\n"
          ]
        }
      ]
    },
    {
      "cell_type": "code",
      "metadata": {
        "id": "XZ1sOBmbXMQV"
      },
      "source": [
        "with open(\"./sarcasm.json\", 'r') as f:\n",
        "    datastore = json.load(f)\n",
        "\n",
        "sentences = []\n",
        "labels = []\n",
        "\n",
        "for item in datastore:\n",
        "    sentences.append(item['headline'])\n",
        "    labels.append(item['is_sarcastic'])"
      ],
      "execution_count": null,
      "outputs": []
    },
    {
      "cell_type": "code",
      "metadata": {
        "id": "yf8-wnWSXbRV"
      },
      "source": [
        "training_sentences = sentences[0:training_size]\n",
        "testing_sentences = sentences[training_size:]\n",
        "training_labels = labels[0:training_size]\n",
        "testing_labels = labels[training_size:]"
      ],
      "execution_count": null,
      "outputs": []
    },
    {
      "cell_type": "code",
      "metadata": {
        "id": "dik-ys4PY0HF"
      },
      "source": [
        "tokenizer = Tokenizer(num_words=vocab_size, oov_token=oov_tok)\n",
        "tokenizer.fit_on_texts(training_sentences)\n",
        "\n",
        "word_index = tokenizer.word_index\n",
        "\n",
        "training_sequences = tokenizer.texts_to_sequences(training_sentences)\n",
        "training_padded = pad_sequences(training_sequences, maxlen=max_length, padding=padding_type, truncating=trunc_type)\n",
        "\n",
        "testing_sequences = tokenizer.texts_to_sequences(testing_sentences)\n",
        "testing_padded = pad_sequences(testing_sequences, maxlen=max_length, padding=padding_type, truncating=trunc_type)\n"
      ],
      "execution_count": null,
      "outputs": []
    },
    {
      "cell_type": "code",
      "metadata": {
        "id": "EE-9uWviY6K5"
      },
      "source": [
        "import numpy as np\n",
        "training_padded = np.array(training_padded)\n",
        "training_labels = np.array(training_labels)\n",
        "testing_padded = np.array(testing_padded)\n",
        "testing_labels = np.array(testing_labels)"
      ],
      "execution_count": null,
      "outputs": []
    },
    {
      "cell_type": "code",
      "metadata": {
        "id": "NzdhCDrxZCc9"
      },
      "source": [
        "model = tf.keras.Sequential([\n",
        "    tf.keras.layers.Embedding(vocab_size, embedding_dim, input_length=max_length),\n",
        "    tf.keras.layers.GlobalAveragePooling1D(),\n",
        "    tf.keras.layers.Dense(24, activation='relu'),\n",
        "    tf.keras.layers.Dense(1, activation='sigmoid')\n",
        "])\n",
        "model.compile(loss='binary_crossentropy',optimizer='adam',metrics=['accuracy'])"
      ],
      "execution_count": null,
      "outputs": []
    },
    {
      "cell_type": "code",
      "metadata": {
        "colab": {
          "base_uri": "https://localhost:8080/"
        },
        "id": "cfnYSwiHZt2s",
        "outputId": "7e507a57-5fe2-47be-ca64-d993762115a5"
      },
      "source": [
        "model.summary()"
      ],
      "execution_count": null,
      "outputs": [
        {
          "output_type": "stream",
          "name": "stdout",
          "text": [
            "Model: \"sequential\"\n",
            "_________________________________________________________________\n",
            " Layer (type)                Output Shape              Param #   \n",
            "=================================================================\n",
            " embedding (Embedding)       (None, 100, 16)           160000    \n",
            "                                                                 \n",
            " global_average_pooling1d (G  (None, 16)               0         \n",
            " lobalAveragePooling1D)                                          \n",
            "                                                                 \n",
            " dense (Dense)               (None, 24)                408       \n",
            "                                                                 \n",
            " dense_1 (Dense)             (None, 1)                 25        \n",
            "                                                                 \n",
            "=================================================================\n",
            "Total params: 160,433\n",
            "Trainable params: 160,433\n",
            "Non-trainable params: 0\n",
            "_________________________________________________________________\n"
          ]
        }
      ]
    },
    {
      "cell_type": "code",
      "metadata": {
        "colab": {
          "base_uri": "https://localhost:8080/"
        },
        "id": "H0XMwZqxZ7-T",
        "outputId": "11ed9c67-5745-4fe7-8faf-cee3797f5aa6"
      },
      "source": [
        "num_epochs = 30\n",
        "history = model.fit(training_padded, training_labels, epochs=num_epochs, validation_data=(testing_padded, testing_labels), verbose=2)\n"
      ],
      "execution_count": null,
      "outputs": [
        {
          "output_type": "stream",
          "name": "stdout",
          "text": [
            "Epoch 1/30\n",
            "625/625 - 3s - loss: 0.6732 - accuracy: 0.5734 - val_loss: 0.6079 - val_accuracy: 0.7237 - 3s/epoch - 5ms/step\n",
            "Epoch 2/30\n",
            "625/625 - 2s - loss: 0.4437 - accuracy: 0.8225 - val_loss: 0.3860 - val_accuracy: 0.8392 - 2s/epoch - 3ms/step\n",
            "Epoch 3/30\n",
            "625/625 - 2s - loss: 0.3130 - accuracy: 0.8759 - val_loss: 0.3573 - val_accuracy: 0.8478 - 2s/epoch - 3ms/step\n",
            "Epoch 4/30\n",
            "625/625 - 2s - loss: 0.2601 - accuracy: 0.8991 - val_loss: 0.3446 - val_accuracy: 0.8554 - 2s/epoch - 4ms/step\n",
            "Epoch 5/30\n",
            "625/625 - 2s - loss: 0.2249 - accuracy: 0.9117 - val_loss: 0.3452 - val_accuracy: 0.8557 - 2s/epoch - 4ms/step\n",
            "Epoch 6/30\n",
            "625/625 - 2s - loss: 0.1981 - accuracy: 0.9235 - val_loss: 0.3512 - val_accuracy: 0.8539 - 2s/epoch - 4ms/step\n",
            "Epoch 7/30\n",
            "625/625 - 3s - loss: 0.1744 - accuracy: 0.9355 - val_loss: 0.3699 - val_accuracy: 0.8518 - 3s/epoch - 4ms/step\n",
            "Epoch 8/30\n",
            "625/625 - 3s - loss: 0.1558 - accuracy: 0.9428 - val_loss: 0.3823 - val_accuracy: 0.8514 - 3s/epoch - 6ms/step\n",
            "Epoch 9/30\n",
            "625/625 - 2s - loss: 0.1397 - accuracy: 0.9499 - val_loss: 0.3982 - val_accuracy: 0.8533 - 2s/epoch - 4ms/step\n",
            "Epoch 10/30\n",
            "625/625 - 2s - loss: 0.1272 - accuracy: 0.9544 - val_loss: 0.4197 - val_accuracy: 0.8484 - 2s/epoch - 4ms/step\n",
            "Epoch 11/30\n",
            "625/625 - 2s - loss: 0.1140 - accuracy: 0.9603 - val_loss: 0.4455 - val_accuracy: 0.8474 - 2s/epoch - 3ms/step\n",
            "Epoch 12/30\n",
            "625/625 - 2s - loss: 0.1054 - accuracy: 0.9638 - val_loss: 0.4746 - val_accuracy: 0.8419 - 2s/epoch - 4ms/step\n",
            "Epoch 13/30\n",
            "625/625 - 2s - loss: 0.0952 - accuracy: 0.9674 - val_loss: 0.4932 - val_accuracy: 0.8413 - 2s/epoch - 4ms/step\n",
            "Epoch 14/30\n",
            "625/625 - 2s - loss: 0.0880 - accuracy: 0.9705 - val_loss: 0.5349 - val_accuracy: 0.8366 - 2s/epoch - 4ms/step\n",
            "Epoch 15/30\n",
            "625/625 - 2s - loss: 0.0801 - accuracy: 0.9728 - val_loss: 0.5526 - val_accuracy: 0.8377 - 2s/epoch - 3ms/step\n",
            "Epoch 16/30\n",
            "625/625 - 2s - loss: 0.0726 - accuracy: 0.9757 - val_loss: 0.5847 - val_accuracy: 0.8366 - 2s/epoch - 4ms/step\n",
            "Epoch 17/30\n",
            "625/625 - 2s - loss: 0.0660 - accuracy: 0.9792 - val_loss: 0.6362 - val_accuracy: 0.8293 - 2s/epoch - 4ms/step\n",
            "Epoch 18/30\n",
            "625/625 - 2s - loss: 0.0622 - accuracy: 0.9808 - val_loss: 0.7050 - val_accuracy: 0.8253 - 2s/epoch - 4ms/step\n",
            "Epoch 19/30\n",
            "625/625 - 2s - loss: 0.0565 - accuracy: 0.9825 - val_loss: 0.7040 - val_accuracy: 0.8280 - 2s/epoch - 4ms/step\n",
            "Epoch 20/30\n",
            "625/625 - 2s - loss: 0.0517 - accuracy: 0.9844 - val_loss: 0.7295 - val_accuracy: 0.8271 - 2s/epoch - 4ms/step\n",
            "Epoch 21/30\n",
            "625/625 - 2s - loss: 0.0481 - accuracy: 0.9854 - val_loss: 0.7584 - val_accuracy: 0.8267 - 2s/epoch - 3ms/step\n",
            "Epoch 22/30\n",
            "625/625 - 2s - loss: 0.0441 - accuracy: 0.9861 - val_loss: 0.8009 - val_accuracy: 0.8243 - 2s/epoch - 4ms/step\n",
            "Epoch 23/30\n",
            "625/625 - 2s - loss: 0.0402 - accuracy: 0.9879 - val_loss: 0.8323 - val_accuracy: 0.8232 - 2s/epoch - 4ms/step\n",
            "Epoch 24/30\n",
            "625/625 - 2s - loss: 0.0373 - accuracy: 0.9890 - val_loss: 0.8709 - val_accuracy: 0.8228 - 2s/epoch - 4ms/step\n",
            "Epoch 25/30\n",
            "625/625 - 2s - loss: 0.0347 - accuracy: 0.9903 - val_loss: 0.9087 - val_accuracy: 0.8198 - 2s/epoch - 4ms/step\n",
            "Epoch 26/30\n",
            "625/625 - 2s - loss: 0.0340 - accuracy: 0.9897 - val_loss: 0.9398 - val_accuracy: 0.8182 - 2s/epoch - 4ms/step\n",
            "Epoch 27/30\n",
            "625/625 - 2s - loss: 0.0303 - accuracy: 0.9912 - val_loss: 0.9767 - val_accuracy: 0.8152 - 2s/epoch - 4ms/step\n",
            "Epoch 28/30\n",
            "625/625 - 2s - loss: 0.0263 - accuracy: 0.9927 - val_loss: 1.0615 - val_accuracy: 0.8135 - 2s/epoch - 4ms/step\n",
            "Epoch 29/30\n",
            "625/625 - 2s - loss: 0.0252 - accuracy: 0.9926 - val_loss: 1.1246 - val_accuracy: 0.8119 - 2s/epoch - 4ms/step\n",
            "Epoch 30/30\n",
            "625/625 - 2s - loss: 0.0230 - accuracy: 0.9934 - val_loss: 1.1143 - val_accuracy: 0.8149 - 2s/epoch - 4ms/step\n"
          ]
        }
      ]
    },
    {
      "cell_type": "code",
      "metadata": {
        "colab": {
          "base_uri": "https://localhost:8080/",
          "height": 541
        },
        "id": "qbeZtvrlabaL",
        "outputId": "703d0d9c-c4ee-4d0d-d3e4-99cf53e39579"
      },
      "source": [
        "import matplotlib.pyplot as plt\n",
        "\n",
        "\n",
        "def plot_graphs(history, string):\n",
        "  plt.plot(history.history[string])\n",
        "  plt.plot(history.history['val_'+string])\n",
        "  plt.xlabel(\"Epochs\")\n",
        "  plt.ylabel(string)\n",
        "  plt.legend([string, 'val_'+string])\n",
        "  plt.show()\n",
        "  \n",
        "plot_graphs(history, \"accuracy\")\n",
        "plot_graphs(history, \"loss\")"
      ],
      "execution_count": null,
      "outputs": [
        {
          "output_type": "display_data",
          "data": {
            "image/png": "[encoded data removed]",
            "text/plain": [
              "<Figure size 432x288 with 1 Axes>"
            ]
          },
          "metadata": {
            "needs_background": "light"
          }
        },
        {
          "output_type": "display_data",
          "data": {
            "image/png": "[encoded data removed]",
            "text/plain": [
              "<Figure size 432x288 with 1 Axes>"
            ]
          },
          "metadata": {
            "needs_background": "light"
          }
        }
      ]
    },
    {
      "cell_type": "code",
      "metadata": {
        "colab": {
          "base_uri": "https://localhost:8080/"
        },
        "id": "FRLfOnnta46L",
        "outputId": "75c88500-c4f0-4462-a544-86ef1708af9b"
      },
      "source": [
        "reverse_word_index = dict([(value, key) for (key, value) in word_index.items()])\n",
        "\n",
        "def decode_sentence(text):\n",
        "    return ' '.join([reverse_word_index.get(i, '?') for i in text])\n",
        "\n",
        "print(decode_sentence(training_padded[0]))\n",
        "print(training_sentences[2])\n",
        "print(labels[2])"
      ],
      "execution_count": null,
      "outputs": [
        {
          "output_type": "stream",
          "name": "stdout",
          "text": [
            "former <OOV> store clerk sues over secret 'black <OOV> for minority shoppers ? ? ? ? ? ? ? ? ? ? ? ? ? ? ? ? ? ? ? ? ? ? ? ? ? ? ? ? ? ? ? ? ? ? ? ? ? ? ? ? ? ? ? ? ? ? ? ? ? ? ? ? ? ? ? ? ? ? ? ? ? ? ? ? ? ? ? ? ? ? ? ? ? ? ? ? ? ? ? ? ? ? ? ? ? ? ? ?\n",
            "mom starting to fear son's web series closest thing she will have to grandchild\n",
            "1\n"
          ]
        }
      ]
    },
    {
      "cell_type": "code",
      "metadata": {
        "colab": {
          "base_uri": "https://localhost:8080/"
        },
        "id": "C4pZMZ3RbBPo",
        "outputId": "c9a562f7-9808-4a8c-c642-4580bb5b5711"
      },
      "source": [
        "e = model.layers[0]\n",
        "weights = e.get_weights()[0]\n",
        "print(weights.shape) # shape: (vocab_size, embedding_dim)\n"
      ],
      "execution_count": null,
      "outputs": [
        {
          "output_type": "stream",
          "name": "stdout",
          "text": [
            "(10000, 16)\n"
          ]
        }
      ]
    },
    {
      "cell_type": "code",
      "metadata": {
        "id": "ZfOyTxe6bGcg"
      },
      "source": [
        "import io\n",
        "\n",
        "out_v = io.open('vecs.tsv', 'w', encoding='utf-8')\n",
        "out_m = io.open('meta.tsv', 'w', encoding='utf-8')\n",
        "for word_num in range(1, vocab_size):\n",
        "  word = reverse_word_index[word_num]\n",
        "  embeddings = weights[word_num]\n",
        "  out_m.write(word + \"\\n\")\n",
        "  out_v.write('\\t'.join([str(x) for x in embeddings]) + \"\\n\")\n",
        "out_v.close()\n",
        "out_m.close()"
      ],
      "execution_count": null,
      "outputs": []
    },
    {
      "cell_type": "code",
      "metadata": {
        "id": "cJIASbNKbMv-"
      },
      "source": [
        "# try:\n",
        "#   from google.colab import files\n",
        "# except ImportError:\n",
        "#   pass\n",
        "# else:\n",
        "#   files.download('vecs.tsv')\n",
        "#   files.download('meta.tsv')\n"
      ],
      "execution_count": null,
      "outputs": []
    },
    {
      "cell_type": "code",
      "metadata": {
        "id": "Sahf03LhbZK4",
        "colab": {
          "base_uri": "https://localhost:8080/"
        },
        "outputId": "6c85c5f5-b5b6-44dc-81b4-09650b401af6"
      },
      "source": [
        "sentence = [\"granny starting to fear spiders in the garden might be real\", \"game of thrones season finale showing this sunday night\"]\n",
        "sequences = tokenizer.texts_to_sequences(sentence)\n",
        "padded = pad_sequences(sequences, maxlen=max_length, padding=padding_type, truncating=trunc_type)\n",
        "print(model.predict(padded))"
      ],
      "execution_count": null,
      "outputs": [
        {
          "output_type": "stream",
          "name": "stdout",
          "text": [
            "[[9.035785e-01]\n",
            " [4.618298e-06]]\n"
          ]
        }
      ]
    }
  ]
}